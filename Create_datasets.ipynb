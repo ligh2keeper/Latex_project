{
 "cells": [
  {
   "cell_type": "code",
   "execution_count": 13,
   "id": "f28c91c3",
   "metadata": {},
   "outputs": [],
   "source": [
    "import png_latex\n",
    "import pickle"
   ]
  },
  {
   "cell_type": "code",
   "execution_count": 14,
   "id": "69a89450",
   "metadata": {},
   "outputs": [],
   "source": [
    "from tqdm import tqdm\n",
    "import numpy as np"
   ]
  },
  {
   "cell_type": "code",
   "execution_count": 103,
   "id": "c9c4253b",
   "metadata": {},
   "outputs": [],
   "source": [
    "gen  = ExpressionGenerator(25, max_seq_len=256)"
   ]
  },
  {
   "cell_type": "code",
   "execution_count": 104,
   "id": "822a3704",
   "metadata": {},
   "outputs": [],
   "source": [
    "targets = {}"
   ]
  },
  {
   "cell_type": "code",
   "execution_count": null,
   "id": "71d20cd8",
   "metadata": {},
   "outputs": [],
   "source": [
    "np.random.seed(123)\n",
    "for i in tqdm(range(10000)):\n",
    "    img_name = f'img_{i}'\n",
    "    n_ops = np.random.randint(2, 20)\n",
    "    prefix = gen.get_prefix_expr(n_ops)\n",
    "    targets[img_name] = prefix\n",
    "    infix, _ = gen.prefix_to_latex(prefix)\n",
    "    png_latex.rasterise_formula(img_name, infix, dpi=200)"
   ]
  },
  {
   "cell_type": "code",
   "execution_count": 109,
   "id": "aa3af2e2",
   "metadata": {},
   "outputs": [],
   "source": [
    "with open('targets', 'wb') as handle:\n",
    "    pickle.dump(targets, handle, protocol=pickle.HIGHEST_PROTOCOL)"
   ]
  },
  {
   "cell_type": "code",
   "execution_count": 164,
   "id": "aa37a185",
   "metadata": {},
   "outputs": [],
   "source": [
    "test_data = {\n",
    "    'targets': [],\n",
    "    'images': []\n",
    "}"
   ]
  },
  {
   "cell_type": "code",
   "execution_count": 159,
   "id": "9fb3f7f0",
   "metadata": {},
   "outputs": [
    {
     "name": "stderr",
     "output_type": "stream",
     "text": [
      "100%|███████████████████████████████████████████████████████████████████████████████████████████████████████████████████████████████████████████████████████████████████████████████████████████████| 10000/10000 [00:02<00:00, 3374.76it/s]\n"
     ]
    }
   ],
   "source": [
    "targets = []\n",
    "images = []\n",
    "for i in tqdm(range(10000)):\n",
    "    img_name = f'img_{i}'\n",
    "    img = Image.open(img_name + '.png')\n",
    "    img.load()\n",
    "    targets.append(trg[img_name])\n",
    "    images.append(np.asarray(img))"
   ]
  },
  {
   "cell_type": "code",
   "execution_count": 166,
   "id": "58c02807",
   "metadata": {},
   "outputs": [],
   "source": [
    "test_data['targets'] = targets\n",
    "test_data['images'] = images"
   ]
  },
  {
   "cell_type": "code",
   "execution_count": 175,
   "id": "788f81b1",
   "metadata": {},
   "outputs": [],
   "source": [
    "with open('test_data', 'wb') as handle:\n",
    "    pickle.dump(test_data, handle, protocol=pickle.HIGHEST_PROTOCOL)"
   ]
  },
  {
   "cell_type": "code",
   "execution_count": null,
   "id": "086cef76",
   "metadata": {},
   "outputs": [],
   "source": []
  }
 ],
 "metadata": {
  "kernelspec": {
   "display_name": "Python 3 (ipykernel)",
   "language": "python",
   "name": "python3"
  },
  "language_info": {
   "codemirror_mode": {
    "name": "ipython",
    "version": 3
   },
   "file_extension": ".py",
   "mimetype": "text/x-python",
   "name": "python",
   "nbconvert_exporter": "python",
   "pygments_lexer": "ipython3",
   "version": "3.11.3"
  }
 },
 "nbformat": 4,
 "nbformat_minor": 5
}
