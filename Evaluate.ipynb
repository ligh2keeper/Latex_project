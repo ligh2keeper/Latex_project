{
 "cells": [
  {
   "cell_type": "code",
   "execution_count": 1,
   "id": "381c22dc",
   "metadata": {
    "execution": {
     "iopub.execute_input": "2023-06-29T12:27:12.720092Z",
     "iopub.status.busy": "2023-06-29T12:27:12.719576Z",
     "iopub.status.idle": "2023-06-29T12:27:15.677112Z",
     "shell.execute_reply": "2023-06-29T12:27:15.676169Z",
     "shell.execute_reply.started": "2023-06-29T12:27:12.720049Z"
    }
   },
   "outputs": [],
   "source": [
    "from model import *\n",
    "from data_iterator import create_data_iterator\n",
    "import latex_generator as gen\n",
    "import png_latex\n",
    "\n",
    "from PIL import Image\n",
    "import matplotlib.pyplot as plt\n",
    "import torchvision.transforms as tr\n",
    "\n",
    "import numpy as np\n",
    "import torch"
   ]
  },
  {
   "cell_type": "code",
   "execution_count": 2,
   "id": "63ba8e8f",
   "metadata": {
    "execution": {
     "iopub.execute_input": "2023-06-29T12:27:19.869524Z",
     "iopub.status.busy": "2023-06-29T12:27:19.868945Z",
     "iopub.status.idle": "2023-06-29T12:27:19.877984Z",
     "shell.execute_reply": "2023-06-29T12:27:19.874223Z",
     "shell.execute_reply.started": "2023-06-29T12:27:19.869492Z"
    }
   },
   "outputs": [],
   "source": [
    "DEVICE = torch.device(\"cuda\" if torch.cuda.is_available() else \"cpu\")"
   ]
  },
  {
   "cell_type": "code",
   "execution_count": 3,
   "id": "083b4bee",
   "metadata": {
    "execution": {
     "iopub.execute_input": "2023-06-29T12:27:32.179241Z",
     "iopub.status.busy": "2023-06-29T12:27:32.178897Z",
     "iopub.status.idle": "2023-06-29T12:27:32.185786Z",
     "shell.execute_reply": "2023-06-29T12:27:32.184678Z",
     "shell.execute_reply.started": "2023-06-29T12:27:32.179211Z"
    }
   },
   "outputs": [],
   "source": [
    "latex_gen = gen.ExpressionGenerator(25)\n",
    "to_tensor = tr.ToTensor()"
   ]
  },
  {
   "cell_type": "code",
   "execution_count": 4,
   "id": "a03bbb5b",
   "metadata": {
    "execution": {
     "iopub.execute_input": "2023-06-29T12:27:35.835141Z",
     "iopub.status.busy": "2023-06-29T12:27:35.834797Z",
     "iopub.status.idle": "2023-06-29T12:27:35.841112Z",
     "shell.execute_reply": "2023-06-29T12:27:35.839446Z",
     "shell.execute_reply.started": "2023-06-29T12:27:35.835113Z"
    }
   },
   "outputs": [],
   "source": [
    "PAD_IDX = latex_gen.token2id['<pad>']\n",
    "START_IDX = latex_gen.token2id['<s>']\n",
    "END_IDX = latex_gen.token2id['</s>']"
   ]
  },
  {
   "cell_type": "code",
   "execution_count": 5,
   "id": "c3e101e7",
   "metadata": {
    "execution": {
     "iopub.execute_input": "2023-06-29T12:27:38.592544Z",
     "iopub.status.busy": "2023-06-29T12:27:38.592166Z",
     "iopub.status.idle": "2023-06-29T12:27:38.598701Z",
     "shell.execute_reply": "2023-06-29T12:27:38.595998Z",
     "shell.execute_reply.started": "2023-06-29T12:27:38.592513Z"
    }
   },
   "outputs": [],
   "source": [
    "vocab_size = len(latex_gen.tokens)"
   ]
  },
  {
   "cell_type": "code",
   "execution_count": 6,
   "id": "3c10a31f",
   "metadata": {
    "execution": {
     "iopub.execute_input": "2023-06-29T12:54:10.642449Z",
     "iopub.status.busy": "2023-06-29T12:54:10.642051Z",
     "iopub.status.idle": "2023-06-29T12:54:11.064258Z",
     "shell.execute_reply": "2023-06-29T12:54:11.063104Z",
     "shell.execute_reply.started": "2023-06-29T12:54:10.642418Z"
    }
   },
   "outputs": [],
   "source": [
    "input_size = (1, 1, 200, 1000)\n",
    "EMBEDDING_SIZE = 64\n",
    "img = torch.rand(input_size)\n",
    "cnn = CNN()\n",
    "with torch.no_grad():\n",
    "    output = cnn(img)\n",
    "_, D, H, W = output.shape\n",
    "enc = Encoder(D, H, W)\n",
    "\n",
    "dec = Decoder(emb_size=EMBEDDING_SIZE,\n",
    "              lstm_hidden_size=256, \n",
    "              att_hidden_size=128, \n",
    "              o_hidden_size=128,  \n",
    "              memory_size=256, \n",
    "              output_size=vocab_size)\n",
    "\n",
    "emb = Embedding(input_size=vocab_size, embedded_size=EMBEDDING_SIZE, padding_idx=latex_gen.token2id['<pad>'])\n",
    "model = Model(cnn, enc, emb, dec).to(DEVICE)"
   ]
  },
  {
   "cell_type": "code",
   "execution_count": 7,
   "id": "42983ad1",
   "metadata": {},
   "outputs": [
    {
     "data": {
      "text/plain": [
       "<All keys matched successfully>"
      ]
     },
     "execution_count": 7,
     "metadata": {},
     "output_type": "execute_result"
    }
   ],
   "source": [
    "model.load_state_dict(torch.load('model_34.pt', map_location=DEVICE))"
   ]
  },
  {
   "cell_type": "code",
   "execution_count": 8,
   "id": "4dcb0b1e",
   "metadata": {},
   "outputs": [],
   "source": [
    "model.eval();"
   ]
  },
  {
   "cell_type": "code",
   "execution_count": 9,
   "id": "7f6af646",
   "metadata": {},
   "outputs": [],
   "source": [
    "def get_input_img(img_name, n_ops):\n",
    "    prefix = latex_gen.get_prefix_expr(n_ops)\n",
    "    infix, _ = latex_gen.prefix_to_latex(prefix)\n",
    "    img_name = png_latex.rasterise_formula(img_name, infix, dpi=200)\n",
    "    img = Image.open(img_name)\n",
    "    img.load()\n",
    "    img_data = np.asarray(img)\n",
    "    img_input = to_tensor(255 - img_data).unsqueeze(0)\n",
    "    return img_input, prefix"
   ]
  },
  {
   "cell_type": "code",
   "execution_count": 10,
   "id": "2e6c17fb",
   "metadata": {},
   "outputs": [],
   "source": [
    "def get_model_output(img_input, max_len=40):\n",
    "    id_pred = model.generate_output(img_input, START_IDX, max_len)\n",
    "    mask = id_pred != END_IDX\n",
    "    token_pred = [latex_gen.id2token[v.item()] for v in id_pred[mask]]\n",
    "    return token_pred[1:]"
   ]
  },
  {
   "cell_type": "code",
   "execution_count": 11,
   "id": "fef6a669",
   "metadata": {},
   "outputs": [],
   "source": [
    "def make_pair(images_name, formula=None):\n",
    "    if formula is not None:\n",
    "        img_name = png_latex.rasterise_formula(images_name + '_true', formula, dpi=200)\n",
    "        img = Image.open(img_name)\n",
    "        img.load()\n",
    "        img_data = np.asarray(img)\n",
    "        img_input = to_tensor(255 - img_data).unsqueeze(0)\n",
    "    else:\n",
    "        img_input, true_target = get_input_img(images_name + '_true', 12)\n",
    "    predicted_target = get_model_output(img_input)\n",
    "    infix, _ = latex_gen.prefix_to_latex(predicted_target)\n",
    "    pred_name = png_latex.rasterise_formula(images_name + '_pred', infix, dpi=200)\n",
    "    true_name = images_name + '_true.png'\n",
    "    img = Image.open(true_name)\n",
    "    img.load()\n",
    "    true_img = np.asarray(img)\n",
    "    img = Image.open(pred_name)\n",
    "    img.load()\n",
    "    pred_img = np.asarray(img)\n",
    "    return true_img, pred_img"
   ]
  },
  {
   "cell_type": "code",
   "execution_count": 12,
   "id": "c0e5175b",
   "metadata": {},
   "outputs": [],
   "source": [
    "formulas = [\n",
    "    r\"\\int f\\left(x, y\\right) dx\",\n",
    "    r\"\\sum A(x) + i B(x)\",\n",
    "    r\"\\sin x + \\cos x = 1\",\n",
    "    r\"\\frac{\\partial f(x, y)}{\\partial x} = 1\",\n",
    "    r\"x = \\sqrt{A+B}\"\n",
    "]"
   ]
  },
  {
   "cell_type": "code",
   "execution_count": 13,
   "id": "d297f29e",
   "metadata": {},
   "outputs": [
    {
     "data": {
      "image/png": "[encoded data removed]",
      "text/plain": [
       "<Figure size 1200x600 with 2 Axes>"
      ]
     },
     "metadata": {},
     "output_type": "display_data"
    }
   ],
   "source": [
    "true_img, pred_img = make_pair('bbb', formulas[4])\n",
    "fig, (ax1, ax2) = plt.subplots(1, 2, constrained_layout=True, figsize=(12, 6))\n",
    "ax1.set_title('True formula')\n",
    "ax1.imshow(true_img, cmap='gray')\n",
    "ax2.set_title('Predicted formula')\n",
    "ax2.imshow(pred_img, cmap='gray')\n",
    "plt.show()"
   ]
  },
  {
   "cell_type": "code",
   "execution_count": null,
   "id": "f2541e3f",
   "metadata": {},
   "outputs": [],
   "source": []
  }
 ],
 "metadata": {
  "kernelspec": {
   "display_name": "Python 3 (ipykernel)",
   "language": "python",
   "name": "python3"
  },
  "language_info": {
   "codemirror_mode": {
    "name": "ipython",
    "version": 3
   },
   "file_extension": ".py",
   "mimetype": "text/x-python",
   "name": "python",
   "nbconvert_exporter": "python",
   "pygments_lexer": "ipython3",
   "version": "3.11.3"
  }
 },
 "nbformat": 4,
 "nbformat_minor": 5
}
